{
 "cells": [
  {
   "cell_type": "code",
   "execution_count": 19,
   "id": "75cd17f0",
   "metadata": {},
   "outputs": [
    {
     "name": "stdout",
     "output_type": "stream",
     "text": [
      " Classmethod_python.ipynb     'special(Magic or Dunder).ipynb'\r\n",
      " first.txt                     StaticMethod_python.ipynb\r\n",
      " Property-Of-Decoretor.ipynb   Working-with-files.ipynb\r\n"
     ]
    }
   ],
   "source": [
    "ls"
   ]
  },
  {
   "cell_type": "code",
   "execution_count": 20,
   "id": "be2ef5d6",
   "metadata": {},
   "outputs": [],
   "source": [
    "f=open(\"first.txt\", \"w\") #truncating the file first"
   ]
  },
  {
   "cell_type": "code",
   "execution_count": 21,
   "id": "2ef2343c",
   "metadata": {},
   "outputs": [
    {
     "name": "stdout",
     "output_type": "stream",
     "text": [
      " Classmethod_python.ipynb     'special(Magic or Dunder).ipynb'\r\n",
      " first.txt                     StaticMethod_python.ipynb\r\n",
      " Property-Of-Decoretor.ipynb   Working-with-files.ipynb\r\n"
     ]
    }
   ],
   "source": [
    "ls\n"
   ]
  },
  {
   "cell_type": "code",
   "execution_count": 22,
   "id": "3fece709",
   "metadata": {},
   "outputs": [
    {
     "data": {
      "text/plain": [
       "25"
      ]
     },
     "execution_count": 22,
     "metadata": {},
     "output_type": "execute_result"
    }
   ],
   "source": [
    "f.write(\"my first line with python\")"
   ]
  },
  {
   "cell_type": "code",
   "execution_count": 24,
   "id": "2c4291df",
   "metadata": {},
   "outputs": [],
   "source": [
    "f.close()"
   ]
  },
  {
   "cell_type": "code",
   "execution_count": 25,
   "id": "074c2111",
   "metadata": {
    "scrolled": true
   },
   "outputs": [
    {
     "name": "stdout",
     "output_type": "stream",
     "text": [
      "my first line with python"
     ]
    }
   ],
   "source": [
    "cat first.txt"
   ]
  },
  {
   "cell_type": "code",
   "execution_count": 38,
   "id": "50b9fb6b",
   "metadata": {},
   "outputs": [],
   "source": [
    "f = open(\"first.txt\",'a')"
   ]
  },
  {
   "cell_type": "code",
   "execution_count": 39,
   "id": "22f8d632",
   "metadata": {},
   "outputs": [
    {
     "data": {
      "text/plain": [
       "19"
      ]
     },
     "execution_count": 39,
     "metadata": {},
     "output_type": "execute_result"
    }
   ],
   "source": [
    "f.write(\" this is third line\")"
   ]
  },
  {
   "cell_type": "code",
   "execution_count": 41,
   "id": "03823210",
   "metadata": {},
   "outputs": [],
   "source": [
    "f.close()"
   ]
  },
  {
   "cell_type": "code",
   "execution_count": 43,
   "id": "18b9c263",
   "metadata": {},
   "outputs": [
    {
     "name": "stdout",
     "output_type": "stream",
     "text": [
      "my first line with python \r\n",
      "this is second line \r\n",
      "this is third line"
     ]
    }
   ],
   "source": [
    "cat first.txt"
   ]
  },
  {
   "cell_type": "code",
   "execution_count": 45,
   "id": "2154b3cb",
   "metadata": {},
   "outputs": [],
   "source": [
    "f=open(\"first.txt\",\"r\")"
   ]
  },
  {
   "cell_type": "code",
   "execution_count": 46,
   "id": "7c768348",
   "metadata": {},
   "outputs": [
    {
     "data": {
      "text/plain": [
       "'my first line with python \\nthis is second line \\nthis is third line'"
      ]
     },
     "execution_count": 46,
     "metadata": {},
     "output_type": "execute_result"
    }
   ],
   "source": [
    "f.read()"
   ]
  },
  {
   "cell_type": "code",
   "execution_count": 49,
   "id": "4b3eda9c",
   "metadata": {},
   "outputs": [],
   "source": [
    "#f.write(\"\\nthis is fourth line\") #not writable"
   ]
  },
  {
   "cell_type": "code",
   "execution_count": 50,
   "id": "5711f4e7",
   "metadata": {},
   "outputs": [],
   "source": [
    "import os\n"
   ]
  },
  {
   "cell_type": "code",
   "execution_count": 51,
   "id": "0b2cd7f7",
   "metadata": {},
   "outputs": [
    {
     "data": {
      "text/plain": [
       "66"
      ]
     },
     "execution_count": 51,
     "metadata": {},
     "output_type": "execute_result"
    }
   ],
   "source": [
    "os.path.getsize(\"first.txt\")"
   ]
  },
  {
   "cell_type": "code",
   "execution_count": 58,
   "id": "0173979b",
   "metadata": {},
   "outputs": [],
   "source": [
    "s=open(\"second.txt\", \"a\")"
   ]
  },
  {
   "cell_type": "code",
   "execution_count": 59,
   "id": "31e19f1e",
   "metadata": {},
   "outputs": [],
   "source": [
    "#os.remove(\"second.txt\")"
   ]
  },
  {
   "cell_type": "code",
   "execution_count": 60,
   "id": "14b4c86b",
   "metadata": {},
   "outputs": [],
   "source": [
    "os.rename(\"second.txt\", \"newName\")"
   ]
  },
  {
   "cell_type": "code",
   "execution_count": 61,
   "id": "68aa5aea",
   "metadata": {},
   "outputs": [
    {
     "data": {
      "text/plain": [
       "'firstcopy.txt'"
      ]
     },
     "execution_count": 61,
     "metadata": {},
     "output_type": "execute_result"
    }
   ],
   "source": [
    "import shutil\n",
    "shutil.copy(\"first.txt\",\"firstcopy.txt\")"
   ]
  },
  {
   "cell_type": "code",
   "execution_count": 62,
   "id": "302eb97a",
   "metadata": {},
   "outputs": [
    {
     "name": "stdout",
     "output_type": "stream",
     "text": [
      "my first line with python \r\n",
      "this is second line \r\n",
      "this is third line"
     ]
    }
   ],
   "source": [
    "cat firstcopy.txt"
   ]
  },
  {
   "cell_type": "code",
   "execution_count": 63,
   "id": "2a285ea8",
   "metadata": {},
   "outputs": [
    {
     "name": "stdout",
     "output_type": "stream",
     "text": [
      "my first line with python \n",
      "this is second line \n",
      "this is third line\n"
     ]
    }
   ],
   "source": [
    "with open(\"first.txt\",\"r\") as t:\n",
    "    print(t.read())"
   ]
  },
  {
   "cell_type": "code",
   "execution_count": null,
   "id": "9d75b2dc",
   "metadata": {},
   "outputs": [],
   "source": []
  }
 ],
 "metadata": {
  "kernelspec": {
   "display_name": "Python 3 (ipykernel)",
   "language": "python",
   "name": "python3"
  },
  "language_info": {
   "codemirror_mode": {
    "name": "ipython",
    "version": 3
   },
   "file_extension": ".py",
   "mimetype": "text/x-python",
   "name": "python",
   "nbconvert_exporter": "python",
   "pygments_lexer": "ipython3",
   "version": "3.9.7"
  }
 },
 "nbformat": 4,
 "nbformat_minor": 5
}
