{
 "cells": [
  {
   "cell_type": "code",
   "execution_count": 14,
   "id": "b98fe68b",
   "metadata": {},
   "outputs": [],
   "source": [
    "import io"
   ]
  },
  {
   "cell_type": "code",
   "execution_count": 23,
   "id": "033bc4f8",
   "metadata": {},
   "outputs": [],
   "source": [
    "with open(\"first.txt\",'wb')as f:\n",
    "    file=io.BufferedWriter(f)\n",
    "    file.write(b\"heeeeemlooooooooo kemse ho aaaap loooog \\n\")\n",
    "    file.flush()"
   ]
  },
  {
   "cell_type": "code",
   "execution_count": 24,
   "id": "ef0945a0",
   "metadata": {},
   "outputs": [
    {
     "name": "stdout",
     "output_type": "stream",
     "text": [
      "b'heeeeemlooooooooo kemse ho aaaap loooog \\n'\n"
     ]
    }
   ],
   "source": [
    "with open(\"first.txt\",'rb')as f:\n",
    "    file=io.BufferedReader(f)\n",
    "    print(file.read())"
   ]
  },
  {
   "cell_type": "code",
   "execution_count": null,
   "id": "b2d978a7",
   "metadata": {},
   "outputs": [],
   "source": []
  },
  {
   "cell_type": "code",
   "execution_count": null,
   "id": "04b1839b",
   "metadata": {},
   "outputs": [],
   "source": []
  }
 ],
 "metadata": {
  "kernelspec": {
   "display_name": "Python 3 (ipykernel)",
   "language": "python",
   "name": "python3"
  },
  "language_info": {
   "codemirror_mode": {
    "name": "ipython",
    "version": 3
   },
   "file_extension": ".py",
   "mimetype": "text/x-python",
   "name": "python",
   "nbconvert_exporter": "python",
   "pygments_lexer": "ipython3",
   "version": "3.9.7"
  }
 },
 "nbformat": 4,
 "nbformat_minor": 5
}
