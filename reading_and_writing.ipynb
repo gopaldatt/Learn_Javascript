{
 "cells": [
  {
   "cell_type": "code",
   "execution_count": 4,
   "id": "816a0cd1",
   "metadata": {},
   "outputs": [],
   "source": [
    "data={\n",
    "    'name':'roshan',\n",
    "    'mail':'roshan@123',\n",
    "    'phone':8796753456,\n",
    "    'subject':['python', 'java','dsa']\n",
    "}"
   ]
  },
  {
   "cell_type": "code",
   "execution_count": 5,
   "id": "d2d6ac57",
   "metadata": {},
   "outputs": [
    {
     "data": {
      "text/plain": [
       "{'name': 'roshan',\n",
       " 'mail': 'roshan@123',\n",
       " 'phone': 8796753456,\n",
       " 'subject': ['python', 'java', 'dsa']}"
      ]
     },
     "execution_count": 5,
     "metadata": {},
     "output_type": "execute_result"
    }
   ],
   "source": [
    "data"
   ]
  },
  {
   "cell_type": "code",
   "execution_count": 6,
   "id": "96e18bcd",
   "metadata": {},
   "outputs": [],
   "source": [
    "import json"
   ]
  },
  {
   "cell_type": "code",
   "execution_count": 7,
   "id": "a8dbece7",
   "metadata": {},
   "outputs": [],
   "source": [
    "with open('data.json','w') as f:\n",
    "    json.dump(data,f)"
   ]
  },
  {
   "cell_type": "code",
   "execution_count": 9,
   "id": "bbde3760",
   "metadata": {},
   "outputs": [],
   "source": [
    "with open('data.json','r') as f:\n",
    "    data1=json.load(f)"
   ]
  },
  {
   "cell_type": "code",
   "execution_count": 10,
   "id": "9c2ffbca",
   "metadata": {},
   "outputs": [
    {
     "data": {
      "text/plain": [
       "{'name': 'roshan',\n",
       " 'mail': 'roshan@123',\n",
       " 'phone': 8796753456,\n",
       " 'subject': ['python', 'java', 'dsa']}"
      ]
     },
     "execution_count": 10,
     "metadata": {},
     "output_type": "execute_result"
    }
   ],
   "source": [
    "data1"
   ]
  },
  {
   "cell_type": "code",
   "execution_count": 14,
   "id": "d0561c8a",
   "metadata": {},
   "outputs": [
    {
     "data": {
      "text/plain": [
       "'dsa'"
      ]
     },
     "execution_count": 14,
     "metadata": {},
     "output_type": "execute_result"
    }
   ],
   "source": [
    "data1['subject'][2]"
   ]
  },
  {
   "cell_type": "code",
   "execution_count": 15,
   "id": "f6d72a5f",
   "metadata": {},
   "outputs": [],
   "source": [
    "import csv"
   ]
  },
  {
   "cell_type": "code",
   "execution_count": 22,
   "id": "3ad073cf",
   "metadata": {},
   "outputs": [],
   "source": [
    "var=[['name','email','phone'],\n",
    "     ['ram','ram@gmail.com', 4534534],\n",
    "     ['shuhani','suhani@gmail.com', 34534534],\n",
    "     ['ankit','ankit@gmail.com', 6554543],\n",
    "     ['ram','ram@gmail.com', 984534534],\n",
    "     ['nathu','nathuram@gmail.com', 84534534],\n",
    "     ['gandhi','gandhi@gmail.com', 764534534],\n",
    "     ['ram','ram@gmail.com', 774534534],\n",
    "    ]"
   ]
  },
  {
   "cell_type": "code",
   "execution_count": 23,
   "id": "b311502c",
   "metadata": {},
   "outputs": [],
   "source": [
    "with open('var.csv','w') as f:\n",
    "    writer=csv.writer(f)\n",
    "    \n",
    "    for i in var:\n",
    "        writer.writerow(i)"
   ]
  },
  {
   "cell_type": "code",
   "execution_count": 24,
   "id": "fb761940",
   "metadata": {},
   "outputs": [
    {
     "name": "stdout",
     "output_type": "stream",
     "text": [
      "['name', 'email', 'phone']\n",
      "['ram', 'ram@gmail.com', 4534534]\n",
      "['shuhani', 'suhani@gmail.com', 34534534]\n",
      "['ankit', 'ankit@gmail.com', 6554543]\n",
      "['ram', 'ram@gmail.com', 984534534]\n",
      "['nathu', 'nathuram@gmail.com', 84534534]\n",
      "['gandhi', 'gandhi@gmail.com', 764534534]\n",
      "['ram', 'ram@gmail.com', 774534534]\n"
     ]
    }
   ],
   "source": [
    "with open('var.csv','w') as f:\n",
    "    read_data=csv.reader(f)\n",
    "    \n",
    "    for i in var:\n",
    "        print(i)"
   ]
  },
  {
   "cell_type": "code",
   "execution_count": 25,
   "id": "c63b6ce8",
   "metadata": {},
   "outputs": [],
   "source": [
    "with open(\"test.bin\",\"wb\")as f:\n",
    "    f.write(b\"\\x01\")"
   ]
  },
  {
   "cell_type": "code",
   "execution_count": 27,
   "id": "85ea67e7",
   "metadata": {},
   "outputs": [
    {
     "name": "stdout",
     "output_type": "stream",
     "text": [
      "b'\\x01'\n"
     ]
    }
   ],
   "source": [
    "with open(\"test.bin\",\"rb\")as f:\n",
    "    print(f.read())"
   ]
  },
  {
   "cell_type": "code",
   "execution_count": null,
   "id": "72f431b9",
   "metadata": {},
   "outputs": [],
   "source": []
  }
 ],
 "metadata": {
  "kernelspec": {
   "display_name": "Python 3 (ipykernel)",
   "language": "python",
   "name": "python3"
  },
  "language_info": {
   "codemirror_mode": {
    "name": "ipython",
    "version": 3
   },
   "file_extension": ".py",
   "mimetype": "text/x-python",
   "name": "python",
   "nbconvert_exporter": "python",
   "pygments_lexer": "ipython3",
   "version": "3.9.7"
  }
 },
 "nbformat": 4,
 "nbformat_minor": 5
}
