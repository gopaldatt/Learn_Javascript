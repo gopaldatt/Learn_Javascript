{
 "cells": [
  {
   "cell_type": "code",
   "execution_count": 30,
   "id": "bbf68674",
   "metadata": {},
   "outputs": [],
   "source": [
    "class demo:\n",
    "    \n",
    "    def __init__(self, name , price):\n",
    "        self.__name=name\n",
    "        self.__price=price \n",
    "        \n",
    "    def returndata(self):\n",
    "        return(self.__name, self.__price)\n",
    "    \n",
    "    @property\n",
    "    def course_price_access(self):\n",
    "        return self.__price"
   ]
  },
  {
   "cell_type": "code",
   "execution_count": 31,
   "id": "2ae456d1",
   "metadata": {},
   "outputs": [],
   "source": [
    "d=demo(\"java\",5500)"
   ]
  },
  {
   "cell_type": "code",
   "execution_count": 32,
   "id": "39a8b285",
   "metadata": {},
   "outputs": [
    {
     "data": {
      "text/plain": [
       "('java', 5500)"
      ]
     },
     "execution_count": 32,
     "metadata": {},
     "output_type": "execute_result"
    }
   ],
   "source": [
    "d.returndata()"
   ]
  },
  {
   "cell_type": "code",
   "execution_count": 33,
   "id": "92726e3f",
   "metadata": {},
   "outputs": [
    {
     "ename": "TypeError",
     "evalue": "'int' object is not callable",
     "output_type": "error",
     "traceback": [
      "\u001b[0;31m---------------------------------------------------------------------------\u001b[0m",
      "\u001b[0;31mTypeError\u001b[0m                                 Traceback (most recent call last)",
      "\u001b[0;32m/tmp/ipykernel_6911/3483443647.py\u001b[0m in \u001b[0;36m<module>\u001b[0;34m\u001b[0m\n\u001b[0;32m----> 1\u001b[0;31m \u001b[0md\u001b[0m\u001b[0;34m.\u001b[0m\u001b[0mcourse_price_access\u001b[0m\u001b[0;34m(\u001b[0m\u001b[0;34m)\u001b[0m\u001b[0;34m\u001b[0m\u001b[0;34m\u001b[0m\u001b[0m\n\u001b[0m",
      "\u001b[0;31mTypeError\u001b[0m: 'int' object is not callable"
     ]
    }
   ],
   "source": [
    "d.course_price_access()"
   ]
  },
  {
   "cell_type": "code",
   "execution_count": null,
   "id": "8ba117c7",
   "metadata": {},
   "outputs": [],
   "source": [
    "\n"
   ]
  },
  {
   "cell_type": "code",
   "execution_count": null,
   "id": "cd25de84",
   "metadata": {},
   "outputs": [],
   "source": []
  }
 ],
 "metadata": {
  "kernelspec": {
   "display_name": "Python 3 (ipykernel)",
   "language": "python",
   "name": "python3"
  },
  "language_info": {
   "codemirror_mode": {
    "name": "ipython",
    "version": 3
   },
   "file_extension": ".py",
   "mimetype": "text/x-python",
   "name": "python",
   "nbconvert_exporter": "python",
   "pygments_lexer": "ipython3",
   "version": "3.9.7"
  }
 },
 "nbformat": 4,
 "nbformat_minor": 5
}
