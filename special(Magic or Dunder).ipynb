{
 "cells": [
  {
   "cell_type": "code",
   "execution_count": 1,
   "id": "9b24efab",
   "metadata": {},
   "outputs": [],
   "source": [
    "class demo:\n",
    "    def __new__(cls):\n",
    "        print(\"this is my new function\")\n",
    "    \n",
    "    def __init__(self):\n",
    "        print(\"this is my init function\")"
   ]
  },
  {
   "cell_type": "code",
   "execution_count": 2,
   "id": "4f0919a9",
   "metadata": {},
   "outputs": [
    {
     "name": "stdout",
     "output_type": "stream",
     "text": [
      "this is my new function\n"
     ]
    }
   ],
   "source": [
    "d=demo()"
   ]
  },
  {
   "cell_type": "code",
   "execution_count": null,
   "id": "ad9aebc8",
   "metadata": {},
   "outputs": [],
   "source": [
    " "
   ]
  }
 ],
 "metadata": {
  "kernelspec": {
   "display_name": "Python 3 (ipykernel)",
   "language": "python",
   "name": "python3"
  },
  "language_info": {
   "codemirror_mode": {
    "name": "ipython",
    "version": 3
   },
   "file_extension": ".py",
   "mimetype": "text/x-python",
   "name": "python",
   "nbconvert_exporter": "python",
   "pygments_lexer": "ipython3",
   "version": "3.9.7"
  }
 },
 "nbformat": 4,
 "nbformat_minor": 5
}
