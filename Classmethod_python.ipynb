{
 "cells": [
  {
   "cell_type": "code",
   "execution_count": 23,
   "id": "8e9fcd7a",
   "metadata": {},
   "outputs": [],
   "source": [
    "class student:\n",
    "    \n",
    "    number = 98655643434\n",
    "    \n",
    "    def __init__(self, name , email):\n",
    "        self.name=name\n",
    "        self.email=email  \n",
    "    @classmethod\n",
    "    def details(cls,name, email):\n",
    "        return cls(name,email)\n",
    "    \n",
    "    @classmethod\n",
    "    def changeMob(self,number):\n",
    "        self.number=number\n",
    "        \n",
    "    def getdata(self):\n",
    "        print(self.name,self.email)"
   ]
  },
  {
   "cell_type": "code",
   "execution_count": 24,
   "id": "ec322a11",
   "metadata": {},
   "outputs": [],
   "source": [
    "st1=student(\"Radha\",\"radha21@gmail.com\")"
   ]
  },
  {
   "cell_type": "code",
   "execution_count": 25,
   "id": "d24bfd60",
   "metadata": {},
   "outputs": [
    {
     "name": "stdout",
     "output_type": "stream",
     "text": [
      "Radha radha21@gmail.com\n"
     ]
    }
   ],
   "source": [
    "st1.getdata()"
   ]
  },
  {
   "cell_type": "code",
   "execution_count": 26,
   "id": "dbff75f9",
   "metadata": {},
   "outputs": [],
   "source": [
    "st2=student.details(\"mayank\", \"mayank34@gmail.com\")"
   ]
  },
  {
   "cell_type": "code",
   "execution_count": 20,
   "id": "59a7bd36",
   "metadata": {},
   "outputs": [
    {
     "name": "stdout",
     "output_type": "stream",
     "text": [
      "mayank mayank34@gmail.com\n"
     ]
    }
   ],
   "source": [
    "st2.getdata()"
   ]
  },
  {
   "cell_type": "code",
   "execution_count": 21,
   "id": "6829e784",
   "metadata": {},
   "outputs": [
    {
     "data": {
      "text/plain": [
       "98655643434"
      ]
     },
     "execution_count": 21,
     "metadata": {},
     "output_type": "execute_result"
    }
   ],
   "source": [
    "student.number"
   ]
  },
  {
   "cell_type": "code",
   "execution_count": 27,
   "id": "1d64c125",
   "metadata": {},
   "outputs": [],
   "source": [
    "student.changeMob(3432211223)"
   ]
  },
  {
   "cell_type": "code",
   "execution_count": 28,
   "id": "8d878bce",
   "metadata": {},
   "outputs": [
    {
     "data": {
      "text/plain": [
       "3432211223"
      ]
     },
     "execution_count": 28,
     "metadata": {},
     "output_type": "execute_result"
    }
   ],
   "source": [
    "student.number"
   ]
  },
  {
   "cell_type": "code",
   "execution_count": 38,
   "id": "c3e1ee0e",
   "metadata": {},
   "outputs": [],
   "source": [
    "#outer function \n",
    "\n",
    "def studentName(cls,names):\n",
    "    print(\"student name is\",names)"
   ]
  },
  {
   "cell_type": "code",
   "execution_count": 39,
   "id": "07c8d7e1",
   "metadata": {},
   "outputs": [],
   "source": [
    "student.studentName=classmethod(studentName)"
   ]
  },
  {
   "cell_type": "code",
   "execution_count": 41,
   "id": "d81f0807",
   "metadata": {},
   "outputs": [
    {
     "name": "stdout",
     "output_type": "stream",
     "text": [
      "student name is ram\n"
     ]
    }
   ],
   "source": [
    "student.studentName(\"ram\")"
   ]
  },
  {
   "cell_type": "code",
   "execution_count": 51,
   "id": "d6ca5015",
   "metadata": {},
   "outputs": [],
   "source": [
    "class teacher:\n",
    "    \n",
    "    number = 98655643434\n",
    "    \n",
    "    def __init__(self, name , email):\n",
    "        self.name=name\n",
    "        self.email=email  \n",
    "    @classmethod\n",
    "    def details(cls,name, email):\n",
    "        return cls(name,email)\n",
    "    \n",
    "    @classmethod\n",
    "    def changeMob(self,number):\n",
    "        self.number=number\n",
    "        \n",
    "    def getdata(self):\n",
    "        print(self.name,self.email)"
   ]
  },
  {
   "cell_type": "code",
   "execution_count": 60,
   "id": "35a9d52f",
   "metadata": {},
   "outputs": [],
   "source": [
    "#outer function \n",
    "def teacherName(cls,names):\n",
    "    print(\"teacher name is\",names)\n",
    "    \n",
    "teacher.teacherName=classmethod(teacherName)"
   ]
  },
  {
   "cell_type": "code",
   "execution_count": 61,
   "id": "abb36408",
   "metadata": {},
   "outputs": [
    {
     "name": "stdout",
     "output_type": "stream",
     "text": [
      "teacher name is ['ram, shyam, blabir ,kabir']\n"
     ]
    }
   ],
   "source": [
    "teacher.teacherName([\"ram, shyam, blabir ,kabir\"])"
   ]
  },
  {
   "cell_type": "code",
   "execution_count": 55,
   "id": "cb96f361",
   "metadata": {},
   "outputs": [],
   "source": [
    "#del teacher.changeMob\n",
    "\n",
    "delattr(teacher,\"changeMob\")"
   ]
  }
 ],
 "metadata": {
  "kernelspec": {
   "display_name": "Python 3 (ipykernel)",
   "language": "python",
   "name": "python3"
  },
  "language_info": {
   "codemirror_mode": {
    "name": "ipython",
    "version": 3
   },
   "file_extension": ".py",
   "mimetype": "text/x-python",
   "name": "python",
   "nbconvert_exporter": "python",
   "pygments_lexer": "ipython3",
   "version": "3.9.7"
  }
 },
 "nbformat": 4,
 "nbformat_minor": 5
}
