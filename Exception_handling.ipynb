{
 "cells": [
  {
   "cell_type": "code",
   "execution_count": 2,
   "id": "50898751",
   "metadata": {},
   "outputs": [
    {
     "name": "stdout",
     "output_type": "stream",
     "text": [
      "this is my fist except block [Errno 2] No such file or directory: 'test.txt'\n"
     ]
    }
   ],
   "source": [
    "try: \n",
    "    f=open(\"test.txt\", 'r' )\n",
    "    \n",
    "except Exception as e:\n",
    "    print(\"this is my fist except block\",e)\n",
    "    "
   ]
  },
  {
   "cell_type": "code",
   "execution_count": 6,
   "id": "777c2393",
   "metadata": {},
   "outputs": [],
   "source": [
    "try: \n",
    "    f=open(\"test.txt\", 'w' )\n",
    "    f.write(\"write into my file \")\n",
    "\n",
    "except Exception as e:\n",
    "    print(\"this is my fist except block\",e)\n",
    "else :\n",
    "    f.close()"
   ]
  },
  {
   "cell_type": "code",
   "execution_count": 7,
   "id": "8c7ab92d",
   "metadata": {},
   "outputs": [],
   "source": [
    "try: \n",
    "    f=open(\"test1.txt\", 'w' )\n",
    "    f.write(\"write into my file \")\n",
    "\n",
    "except Exception as e:\n",
    "    print(\"this is my fist except block\",e)\n",
    "else :\n",
    "    f.close()"
   ]
  },
  {
   "cell_type": "code",
   "execution_count": 8,
   "id": "e93ae0cd",
   "metadata": {},
   "outputs": [
    {
     "name": "stdout",
     "output_type": "stream",
     "text": [
      "this is my fist except block not writable\n"
     ]
    }
   ],
   "source": [
    "try: \n",
    "    f=open(\"test1.txt\", 'r' )\n",
    "    f.write(\"write into my file \")\n",
    "\n",
    "except Exception as e:\n",
    "    print(\"this is my fist except block\",e)\n",
    "else :\n",
    "    f.close()"
   ]
  },
  {
   "cell_type": "code",
   "execution_count": 9,
   "id": "7f635f5c",
   "metadata": {},
   "outputs": [
    {
     "name": "stdout",
     "output_type": "stream",
     "text": [
      "finally block\n"
     ]
    }
   ],
   "source": [
    "try:\n",
    "    f=open(\"test2.txt\",'w')\n",
    "    f.write(\"write something\")\n",
    "finally:\n",
    "    print(\"finally block\")"
   ]
  },
  {
   "cell_type": "code",
   "execution_count": 11,
   "id": "01da176a",
   "metadata": {},
   "outputs": [
    {
     "name": "stdout",
     "output_type": "stream",
     "text": [
      "final\n",
      "finally block\n"
     ]
    }
   ],
   "source": [
    "try:\n",
    "    f=open(\"test2.txt\",'r')\n",
    "    f.write(\"write something\")\n",
    "except Exception as e:\n",
    "    print(\"final\")\n",
    "finally:\n",
    "    print(\"finally block\")"
   ]
  },
  {
   "cell_type": "code",
   "execution_count": null,
   "id": "309142d4",
   "metadata": {},
   "outputs": [],
   "source": []
  }
 ],
 "metadata": {
  "kernelspec": {
   "display_name": "Python 3 (ipykernel)",
   "language": "python",
   "name": "python3"
  },
  "language_info": {
   "codemirror_mode": {
    "name": "ipython",
    "version": 3
   },
   "file_extension": ".py",
   "mimetype": "text/x-python",
   "name": "python",
   "nbconvert_exporter": "python",
   "pygments_lexer": "ipython3",
   "version": "3.9.7"
  }
 },
 "nbformat": 4,
 "nbformat_minor": 5
}
