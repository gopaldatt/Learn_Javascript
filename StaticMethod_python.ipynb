{
 "cells": [
  {
   "cell_type": "code",
   "execution_count": 12,
   "id": "99d92f56",
   "metadata": {},
   "outputs": [],
   "source": [
    "class course:\n",
    "    def student_details(self, sname, sid):\n",
    "        self.sname=sname\n",
    "        self.sid=sid\n",
    "    def returndata(self):\n",
    "        print(self.sname,self.sid)\n",
    "    \n",
    "    @staticmethod\n",
    "    def student_number(number):\n",
    "        print(number)\n",
    "    \n",
    "    @staticmethod\n",
    "    def student_email(email):\n",
    "        print(email)\n",
    "        course.student_number(999999999999999999)\n",
    "    \n",
    "    @classmethod\n",
    "    def student_num(cls):\n",
    "        cls.student_number(545667676767566565)\n",
    "        \n",
    "    @classmethod\n",
    "    def student_em(cls):\n",
    "        cls.student_email(\"arama@gmnail\")"
   ]
  },
  {
   "cell_type": "code",
   "execution_count": 13,
   "id": "c571551c",
   "metadata": {},
   "outputs": [
    {
     "name": "stdout",
     "output_type": "stream",
     "text": [
      "bharat 453432\n"
     ]
    }
   ],
   "source": [
    "obj1=course()\n",
    "obj1.student_details(\"bharat\",453432)\n",
    "obj1.returndata()"
   ]
  },
  {
   "cell_type": "code",
   "execution_count": 20,
   "id": "8e01fb33",
   "metadata": {},
   "outputs": [
    {
     "name": "stdout",
     "output_type": "stream",
     "text": [
      "arama@gmnail\n",
      "999999999999999999\n"
     ]
    }
   ],
   "source": [
    "course.student_em()\n",
    "\n"
   ]
  },
  {
   "cell_type": "code",
   "execution_count": 21,
   "id": "699d3c74",
   "metadata": {},
   "outputs": [
    {
     "name": "stdout",
     "output_type": "stream",
     "text": [
      "rerer\n",
      "999999999999999999\n"
     ]
    }
   ],
   "source": [
    "course.student_email(\"rerer\")"
   ]
  },
  {
   "cell_type": "code",
   "execution_count": null,
   "id": "535bc440",
   "metadata": {},
   "outputs": [],
   "source": []
  }
 ],
 "metadata": {
  "kernelspec": {
   "display_name": "Python 3 (ipykernel)",
   "language": "python",
   "name": "python3"
  },
  "language_info": {
   "codemirror_mode": {
    "name": "ipython",
    "version": 3
   },
   "file_extension": ".py",
   "mimetype": "text/x-python",
   "name": "python",
   "nbconvert_exporter": "python",
   "pygments_lexer": "ipython3",
   "version": "3.9.7"
  }
 },
 "nbformat": 4,
 "nbformat_minor": 5
}
